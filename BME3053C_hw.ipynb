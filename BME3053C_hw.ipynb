{
  "nbformat": 4,
  "nbformat_minor": 0,
  "metadata": {
    "colab": {
      "provenance": [],
      "authorship_tag": "ABX9TyM/sFPXTT6VmW91hvZE5LMF",
      "include_colab_link": true
    },
    "kernelspec": {
      "name": "python3",
      "display_name": "Python 3"
    },
    "language_info": {
      "name": "python"
    }
  },
  "cells": [
    {
      "cell_type": "markdown",
      "metadata": {
        "id": "view-in-github",
        "colab_type": "text"
      },
      "source": [
        "<a href=\"https://colab.research.google.com/github/leinaowens/bme3053c/blob/main/BME3053C_hw.ipynb\" target=\"_parent\"><img src=\"https://colab.research.google.com/assets/colab-badge.svg\" alt=\"Open In Colab\"/></a>"
      ]
    },
    {
      "cell_type": "code",
      "execution_count": 1,
      "metadata": {
        "id": "TwflR9kI3LoS"
      },
      "outputs": [],
      "source": [
        "bp_readings = [120,137,151,123,162,173,127,154]"
      ]
    },
    {
      "cell_type": "code",
      "source": [
        "def normalize_array(list1):\n",
        "  max_value = max(list1)\n",
        "  min_value = min(list1)\n",
        "\n",
        "  normalized = [] #starting new blank list\n",
        "  for x in list1:\n",
        "    normalized.append((x-min_value)/(max_value-min_value))\n",
        "\n",
        "  print(normalized)"
      ],
      "metadata": {
        "id": "7gOQwpxX3hUq"
      },
      "execution_count": 23,
      "outputs": []
    },
    {
      "cell_type": "code",
      "source": [
        "normalize_array(bp_readings)"
      ],
      "metadata": {
        "colab": {
          "base_uri": "https://localhost:8080/"
        },
        "id": "dceKM8mP5iRS",
        "outputId": "bfbfc7ea-8ed0-49ea-fa6f-722a22f204d0"
      },
      "execution_count": 26,
      "outputs": [
        {
          "output_type": "execute_result",
          "data": {
            "text/plain": [
              "[0.0,\n",
              " 0.32075471698113206,\n",
              " 0.5849056603773585,\n",
              " 0.05660377358490566,\n",
              " 0.7924528301886793,\n",
              " 1.0,\n",
              " 0.1320754716981132,\n",
              " 0.6415094339622641]"
            ]
          },
          "metadata": {},
          "execution_count": 26
        }
      ]
    }
  ]
}